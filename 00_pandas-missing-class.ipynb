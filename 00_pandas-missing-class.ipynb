{
 "cells": [
  {
   "cell_type": "code",
   "execution_count": null,
   "metadata": {},
   "outputs": [],
   "source": [
    "#| default_exp Missing"
   ]
  },
  {
   "cell_type": "markdown",
   "metadata": {},
   "source": [
    "# _missing_ extension\n",
    "\n",
    "> Pandas extension to explore and handle missing values."
   ]
  },
  {
   "cell_type": "code",
   "execution_count": null,
   "metadata": {},
   "outputs": [],
   "source": [
    "#|hide\n",
    "from nbdev.showdoc import *"
   ]
  },
  {
   "cell_type": "code",
   "execution_count": null,
   "metadata": {},
   "outputs": [],
   "source": [
    "#|export\n",
    "import pandas as pd"
   ]
  },
  {
   "cell_type": "markdown",
   "metadata": {},
   "source": [
    "## DataFrame extension"
   ]
  },
  {
   "cell_type": "code",
   "execution_count": null,
   "metadata": {},
   "outputs": [],
   "source": [
    "#|export\n",
    "@pd.api.extensions.register_dataframe_accessor(\"missing\")\n",
    "class PandasMissingDataFrame:\n",
    "    \n",
    "    def __init__(self, df: pd.DataFrame):\n",
    "        \"\"\"Pandas extension that registers a new dataframe accessor called `missing`.\n",
    "        \"\"\"\n",
    "\n",
    "        self._df = df"
   ]
  },
  {
   "cell_type": "code",
   "execution_count": null,
   "metadata": {},
   "outputs": [
    {
     "data": {
      "text/plain": [
       "<pandas_missing.Missing.PandasMissingDataFrame>"
      ]
     },
     "execution_count": null,
     "metadata": {},
     "output_type": "execute_result"
    }
   ],
   "source": [
    "import pandas as pd\n",
    "import pandas_missing\n",
    "\n",
    "df = pd.DataFrame(range(0, 10))\n",
    "\n",
    "df.missing"
   ]
  },
  {
   "cell_type": "markdown",
   "metadata": {},
   "source": [
    "## Series extension"
   ]
  },
  {
   "cell_type": "code",
   "execution_count": null,
   "metadata": {},
   "outputs": [
    {
     "name": "stderr",
     "output_type": "stream",
     "text": [
      "/var/folders/zv/sy92nxy140l6kqj_zw12rgvm0000gn/T/ipykernel_6584/2855516065.py:3: UserWarning: registration of accessor <class '__main__.PandasMissingSeries'> under name 'missing' for type <class 'pandas.core.series.Series'> is overriding a preexisting attribute with the same name.\n",
      "  class PandasMissingSeries:\n"
     ]
    }
   ],
   "source": [
    "#|export\n",
    "@pd.api.extensions.register_series_accessor(\"missing\")\n",
    "class PandasMissingSeries:\n",
    "    \n",
    "    def __init__(self, series: pd.Series):\n",
    "        \"\"\"Pandas extension that registers a new series accessor called `missing`.\n",
    "        \"\"\"\n",
    "\n",
    "        self._s = series"
   ]
  },
  {
   "cell_type": "code",
   "execution_count": null,
   "metadata": {},
   "outputs": [
    {
     "data": {
      "text/plain": [
       "<__main__.PandasMissingSeries>"
      ]
     },
     "execution_count": null,
     "metadata": {},
     "output_type": "execute_result"
    }
   ],
   "source": [
    "import pandas as pd\n",
    "import pandas_missing\n",
    "\n",
    "s = pd.Series(range(0, 10))\n",
    "\n",
    "s.missing"
   ]
  }
 ],
 "metadata": {
  "kernelspec": {
   "display_name": "Python 3.10.4 ('pandas-missing')",
   "language": "python",
   "name": "python3"
  }
 },
 "nbformat": 4,
 "nbformat_minor": 4
}
