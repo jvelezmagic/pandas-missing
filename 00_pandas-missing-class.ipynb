{
 "cells": [
  {
   "cell_type": "code",
   "execution_count": null,
   "metadata": {},
   "outputs": [],
   "source": [
    "#| default_exp Missing"
   ]
  },
  {
   "cell_type": "markdown",
   "metadata": {},
   "source": [
    "# _missing_ extension\n",
    "\n",
    "> Pandas extension to explore and handle missing values."
   ]
  },
  {
   "cell_type": "code",
   "execution_count": null,
   "metadata": {},
   "outputs": [],
   "source": [
    "#|hide\n",
    "from nbdev.showdoc import *"
   ]
  },
  {
   "cell_type": "code",
   "execution_count": null,
   "metadata": {},
   "outputs": [
    {
     "name": "stderr",
     "output_type": "stream",
     "text": [
      "/var/folders/mk/_v_0c1417z59r2dvgfz7kd8r0000gn/T/ipykernel_28693/3433460085.py:5: UserWarning: registration of accessor <class '__main__.PandasMissing'> under name 'missing' for type <class 'pandas.core.frame.DataFrame'> is overriding a preexisting attribute with the same name.\n",
      "  class PandasMissing:\n"
     ]
    }
   ],
   "source": [
    "#|export\n",
    "import pandas as pd\n",
    "\n",
    "@pd.api.extensions.register_dataframe_accessor(\"missing\")\n",
    "class PandasMissing:\n",
    "    \n",
    "    def __init__(self, df: pd.DataFrame):\n",
    "        \"\"\"Pandas extension that register a new dataframe accessor called `missing`.\n",
    "        \"\"\"\n",
    "\n",
    "        self._df = df"
   ]
  },
  {
   "cell_type": "code",
   "execution_count": null,
   "metadata": {},
   "outputs": [
    {
     "data": {
      "text/plain": [
       "<__main__.PandasMissing at 0x1119cb1f0>"
      ]
     },
     "execution_count": null,
     "metadata": {},
     "output_type": "execute_result"
    }
   ],
   "source": [
    "import pandas as pd\n",
    "import pandas_missing\n",
    "\n",
    "df = pd.DataFrame(range(0, 10))\n",
    "\n",
    "df.missing"
   ]
  }
 ],
 "metadata": {
  "kernelspec": {
   "display_name": "Python 3.10.5 ('dont-miss-me')",
   "language": "python",
   "name": "python3"
  }
 },
 "nbformat": 4,
 "nbformat_minor": 4
}
