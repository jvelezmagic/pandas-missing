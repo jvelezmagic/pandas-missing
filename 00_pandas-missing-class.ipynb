{
 "cells": [
  {
   "cell_type": "code",
   "execution_count": null,
   "metadata": {},
   "outputs": [],
   "source": [
    "#| default_exp Missing"
   ]
  },
  {
   "cell_type": "markdown",
   "metadata": {},
   "source": [
    "# _missing_ extension\n",
    "\n",
    "> Pandas extension to explore and handle missing values."
   ]
  },
  {
   "cell_type": "code",
   "execution_count": null,
   "metadata": {},
   "outputs": [],
   "source": [
    "#| hide\n",
    "from nbdev.showdoc import *"
   ]
  },
  {
   "cell_type": "code",
   "execution_count": null,
   "metadata": {},
   "outputs": [],
   "source": [
    "#| export\n",
    "import pandas as pd"
   ]
  },
  {
   "cell_type": "markdown",
   "metadata": {},
   "source": [
    "## DataFrame extension"
   ]
  },
  {
   "cell_type": "code",
   "execution_count": null,
   "metadata": {},
   "outputs": [],
   "source": [
    "#|export\n",
    "try:\n",
    "    del pd.DataFrame.missing\n",
    "except AttributeError:\n",
    "    pass\n",
    "\n",
    "@pd.api.extensions.register_dataframe_accessor(\"missing\")\n",
    "class PandasMissingDataFrame:\n",
    "    \n",
    "    def __init__(self, df: pd.DataFrame):\n",
    "        \"\"\"Pandas extension that registers a new dataframe accessor called `missing`.\n",
    "        \"\"\"\n",
    "\n",
    "        self._df = df"
   ]
  },
  {
   "cell_type": "markdown",
   "metadata": {},
   "source": [
    "```python\n",
    "import pandas as pd\n",
    "import pandas_missing\n",
    "```"
   ]
  },
  {
   "cell_type": "code",
   "execution_count": null,
   "metadata": {},
   "outputs": [
    {
     "data": {
      "text/plain": [
       "<__main__.PandasMissingDataFrame>"
      ]
     },
     "execution_count": null,
     "metadata": {},
     "output_type": "execute_result"
    }
   ],
   "source": [
    "\n",
    "df = pd.DataFrame(range(0, 10))\n",
    "\n",
    "df.missing"
   ]
  },
  {
   "cell_type": "markdown",
   "metadata": {},
   "source": [
    "## Series extension"
   ]
  },
  {
   "cell_type": "code",
   "execution_count": null,
   "metadata": {},
   "outputs": [],
   "source": [
    "#|export\n",
    "try:\n",
    "    del pd.Series.missing\n",
    "except AttributeError:\n",
    "    pass\n",
    "\n",
    "@pd.api.extensions.register_series_accessor(\"missing\")\n",
    "class PandasMissingSeries:\n",
    "    \n",
    "    def __init__(self, series: pd.Series):\n",
    "        \"\"\"Pandas extension that registers a new series accessor called `missing`.\n",
    "        \"\"\"\n",
    "\n",
    "        self._s = series"
   ]
  },
  {
   "cell_type": "markdown",
   "metadata": {},
   "source": [
    "```python\n",
    "import pandas as pd\n",
    "import pandas_missing\n",
    "```"
   ]
  },
  {
   "cell_type": "code",
   "execution_count": null,
   "metadata": {},
   "outputs": [
    {
     "data": {
      "text/plain": [
       "<__main__.PandasMissingSeries>"
      ]
     },
     "execution_count": null,
     "metadata": {},
     "output_type": "execute_result"
    }
   ],
   "source": [
    "s = pd.Series(range(0, 10))\n",
    "\n",
    "s.missing"
   ]
  }
 ],
 "metadata": {
  "kernelspec": {
   "display_name": "Python 3.10.4 ('pandas-missing')",
   "language": "python",
   "name": "python3"
  }
 },
 "nbformat": 4,
 "nbformat_minor": 4
}
