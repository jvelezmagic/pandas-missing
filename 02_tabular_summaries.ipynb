{
 "cells": [
  {
   "cell_type": "code",
   "execution_count": null,
   "metadata": {},
   "outputs": [],
   "source": [
    "#| default_exp tabular_summaries"
   ]
  },
  {
   "cell_type": "markdown",
   "metadata": {},
   "source": [
    "# Tabular summaries\n",
    "\n",
    "> This section introduces you to tabular summaries for the following variables."
   ]
  },
  {
   "cell_type": "code",
   "execution_count": null,
   "metadata": {},
   "outputs": [],
   "source": [
    "#| hide\n",
    "from nbdev.showdoc import *"
   ]
  },
  {
   "cell_type": "code",
   "execution_count": null,
   "metadata": {},
   "outputs": [],
   "source": [
    "#| export\n",
    "import pandas as pd\n",
    "from pandas_missing.Missing import PandasMissingDataFrame, PandasMissingSeries\n",
    "from fastcore.basics import patch"
   ]
  },
  {
   "cell_type": "markdown",
   "metadata": {},
   "source": [
    "# Series tabular summaries"
   ]
  },
  {
   "cell_type": "code",
   "execution_count": null,
   "metadata": {},
   "outputs": [],
   "source": []
  },
  {
   "cell_type": "code",
   "execution_count": null,
   "metadata": {},
   "outputs": [],
   "source": []
  },
  {
   "cell_type": "markdown",
   "metadata": {},
   "source": [
    "# DataFrame tabular summaries"
   ]
  },
  {
   "cell_type": "markdown",
   "metadata": {},
   "source": [
    "## Variables"
   ]
  },
  {
   "cell_type": "code",
   "execution_count": null,
   "metadata": {},
   "outputs": [],
   "source": [
    "df = pd.DataFrame.from_dict(\n",
    "    {\n",
    "       \"a\": range(0, 10),\n",
    "       \"b\": range(10, 20),\n",
    "       \"c\": range(20, 30),\n",
    "       \"d\": range(30, 40),\n",
    "       \"e\": range(40, 50)\n",
    "    }\n",
    ")\n",
    "\n",
    "df.iloc[1:4, 0] = None\n",
    "df.iloc[9, 0] = None\n",
    "df.iloc[5:7, 1] = None\n",
    "\n",
    "df"
   ]
  },
  {
   "cell_type": "code",
   "execution_count": null,
   "metadata": {},
   "outputs": [],
   "source": [
    "#| export\n",
    "@patch\n",
    "def summarize_variable_missing(\n",
    "    self: PandasMissingDataFrame,\n",
    "    sort: bool = True, # Indicate whether to sort the result by `number_missing`.\n",
    "    ascending: bool = False ,# Sort ascending vs. descending. Only applicable when sort is `True`.\n",
    "    add_cumsum: bool = False # Indicate wheter or not to add the cumulative sum of missings. **Note**: cumsum is calculated based on input data.\n",
    ") -> pd.DataFrame: # A pandas DataFrame containing the following columns: `variable`, `number_missing`, `proportion_missing`, `percentage_missing`, and optionally`number_missing_cumsum`.\n",
    "    \"\"\"Summarize the missingness in each variable.\n",
    "    The summary always includes the number, proportion and percentage of missings.\n",
    "    Besides, it could include the cumulative sum of missings.\n",
    "    \"\"\"\n",
    "    return (\n",
    "        self._df\n",
    "        .isna()\n",
    "        .sum()\n",
    "        .reset_index(name=\"number_missing\")\n",
    "        .rename(columns={\"index\": \"variable\"})\n",
    "        .assign(\n",
    "            proportion_missing=lambda df: df.number_missing / df.number_missing.sum(),\n",
    "            percentage_missing=lambda df: df.proportion_missing * 100        \n",
    "        )\n",
    "        .pipe(\n",
    "            lambda df: df if not add_cumsum else (\n",
    "                df\n",
    "                .assign(\n",
    "                    number_missing_cumsum=lambda internal_df: internal_df.number_missing.cumsum()\n",
    "                )\n",
    "            )\n",
    "        )\n",
    "        .pipe(\n",
    "            lambda df: df if not sort else df.sort_values(\n",
    "                by=\"number_missing\",\n",
    "                ascending=ascending\n",
    "            )\n",
    "        )\n",
    "    )"
   ]
  },
  {
   "cell_type": "code",
   "execution_count": null,
   "metadata": {},
   "outputs": [
    {
     "data": {
      "text/html": [
       "<div>\n",
       "<style scoped>\n",
       "    .dataframe tbody tr th:only-of-type {\n",
       "        vertical-align: middle;\n",
       "    }\n",
       "\n",
       "    .dataframe tbody tr th {\n",
       "        vertical-align: top;\n",
       "    }\n",
       "\n",
       "    .dataframe thead th {\n",
       "        text-align: right;\n",
       "    }\n",
       "</style>\n",
       "<table border=\"1\" class=\"dataframe\">\n",
       "  <thead>\n",
       "    <tr style=\"text-align: right;\">\n",
       "      <th></th>\n",
       "      <th>variable</th>\n",
       "      <th>number_missing</th>\n",
       "      <th>proportion_missing</th>\n",
       "      <th>percentage_missing</th>\n",
       "      <th>number_missing_cumsum</th>\n",
       "    </tr>\n",
       "  </thead>\n",
       "  <tbody>\n",
       "    <tr>\n",
       "      <th>2</th>\n",
       "      <td>c</td>\n",
       "      <td>0</td>\n",
       "      <td>0.000000</td>\n",
       "      <td>0.000000</td>\n",
       "      <td>6</td>\n",
       "    </tr>\n",
       "    <tr>\n",
       "      <th>3</th>\n",
       "      <td>d</td>\n",
       "      <td>0</td>\n",
       "      <td>0.000000</td>\n",
       "      <td>0.000000</td>\n",
       "      <td>6</td>\n",
       "    </tr>\n",
       "    <tr>\n",
       "      <th>4</th>\n",
       "      <td>e</td>\n",
       "      <td>0</td>\n",
       "      <td>0.000000</td>\n",
       "      <td>0.000000</td>\n",
       "      <td>6</td>\n",
       "    </tr>\n",
       "    <tr>\n",
       "      <th>1</th>\n",
       "      <td>b</td>\n",
       "      <td>2</td>\n",
       "      <td>0.333333</td>\n",
       "      <td>33.333333</td>\n",
       "      <td>6</td>\n",
       "    </tr>\n",
       "    <tr>\n",
       "      <th>0</th>\n",
       "      <td>a</td>\n",
       "      <td>4</td>\n",
       "      <td>0.666667</td>\n",
       "      <td>66.666667</td>\n",
       "      <td>4</td>\n",
       "    </tr>\n",
       "  </tbody>\n",
       "</table>\n",
       "</div>"
      ],
      "text/plain": [
       "  variable  number_missing  proportion_missing  percentage_missing  \\\n",
       "2        c               0            0.000000            0.000000   \n",
       "3        d               0            0.000000            0.000000   \n",
       "4        e               0            0.000000            0.000000   \n",
       "1        b               2            0.333333           33.333333   \n",
       "0        a               4            0.666667           66.666667   \n",
       "\n",
       "   number_missing_cumsum  \n",
       "2                      6  \n",
       "3                      6  \n",
       "4                      6  \n",
       "1                      6  \n",
       "0                      4  "
      ]
     },
     "execution_count": null,
     "metadata": {},
     "output_type": "execute_result"
    }
   ],
   "source": [
    "df.missing.summarize_variable_missing(sort=True, ascending=True, add_cumsum=True)"
   ]
  },
  {
   "cell_type": "markdown",
   "metadata": {},
   "source": [
    "## Cases"
   ]
  }
 ],
 "metadata": {
  "kernelspec": {
   "display_name": "Python 3.10.4 ('pandas-missing')",
   "language": "python",
   "name": "python3"
  }
 },
 "nbformat": 4,
 "nbformat_minor": 2
}
